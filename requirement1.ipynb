{
 "cells": [
  {
   "cell_type": "markdown",
   "metadata": {},
   "source": [
    "### Import packages-libraries"
   ]
  },
  {
   "cell_type": "code",
   "execution_count": 1,
   "metadata": {},
   "outputs": [
    {
     "name": "stderr",
     "output_type": "stream",
     "text": [
      "[nltk_data] Downloading package punkt to\n",
      "[nltk_data]     C:\\Users\\HP\\AppData\\Roaming\\nltk_data...\n",
      "[nltk_data]   Package punkt is already up-to-date!\n"
     ]
    }
   ],
   "source": [
    "import pandas as pd\n",
    "import numpy as np\n",
    "\n",
    "import urllib3\n",
    "import requests\n",
    "from PIL import Image\n",
    "\n",
    "import matplotlib.pyplot as plt\n",
    "import seaborn as sns\n",
    "from wordcloud import WordCloud, STOPWORDS\n",
    "from sklearn.feature_extraction.text import ENGLISH_STOP_WORDS\n",
    "from sklearn.preprocessing import StandardScaler\n",
    "from sklearn.preprocessing import LabelEncoder\n",
    "from sklearn.model_selection import KFold\n",
    "from sklearn.model_selection import train_test_split\n",
    "from sklearn.neighbors import KNeighborsClassifier\n",
    "from sklearn.ensemble import RandomForestClassifier\n",
    "from sklearn.metrics import classification_report, confusion_matrix\n",
    "from nltk.corpus import stopwords\n",
    "import spacy\n",
    "from sklearn.feature_extraction.text import TfidfVectorizer\n",
    "from sklearn.feature_extraction.text import TfidfTransformer\n",
    "from sklearn.feature_extraction.text import HashingVectorizer\n",
    "from sklearn.decomposition import TruncatedSVD\n",
    "from sklearn.feature_extraction.text import CountVectorizer\n",
    "from sklearn.metrics import classification_report, precision_score, recall_score, f1_score, accuracy_score\n",
    "from sklearn.pipeline import Pipeline\n",
    "from sklearn.svm import LinearSVC\n",
    "from sklearn import metrics\n",
    "from sklearn.svm import SVC\n",
    "from sklearn.model_selection import GridSearchCV\n",
    "from sklearn import preprocessing\n",
    "from sklearn.pipeline import make_pipeline\n",
    "from sklearn.model_selection import cross_val_score\n",
    "from sklearn.model_selection import cross_val_predict\n",
    "from sklearn.metrics import accuracy_score\n",
    "from sklearn.ensemble import RandomForestClassifier\n",
    "from sklearn.preprocessing import StandardScaler\n",
    "from sklearn.neighbors import KNeighborsClassifier\n",
    "from sklearn.naive_bayes import MultinomialNB\n",
    "from sklearn.naive_bayes import ComplementNB\n",
    "from nltk.stem.porter import *\n",
    "from nltk import word_tokenize\n",
    "from nltk.stem.snowball import SnowballStemmer\n",
    "from collections import Counter\n",
    "from nltk.stem import WordNetLemmatizer\n",
    "from nltk.corpus import wordnet\n",
    "from sklearn.metrics import accuracy_score\n",
    "import nltk\n",
    "\n",
    "nlp = spacy.load('en_core_web_sm')\n",
    "nltk.download('punkt')\n",
    "\n",
    "%matplotlib inline"
   ]
  },
  {
   "cell_type": "markdown",
   "metadata": {},
   "source": [
    "### Read from file"
   ]
  },
  {
   "cell_type": "code",
   "execution_count": 2,
   "metadata": {},
   "outputs": [],
   "source": [
    "train_data = pd.read_csv('datasets/q1/train.csv', sep=',')\n",
    "test_data = pd.read_csv('datasets/q1/test_without_labels.csv', sep=',')\n",
    "#test_data['Label'] = train_data['Label']\n",
    "expected_array = np.array(train_data.head(2000)[['Label']]).flatten()\n",
    "content_array = np.array(train_data.head(2000)[['Content']]).flatten()\n",
    "#X_train = train_data['Content'].head(2000)\n",
    "#Y_train = train_data['Label'].head(2000)\n",
    "#X_test = test_data['Content']\n",
    "#Y_test = test_data['Label']\n",
    "\n",
    "my_additional_stop_words = ['said','still','day','will','new','may','two','one','now','time','say','second','month','first','going','year','back','people','case','according']\n",
    "stop_words = STOPWORDS.union(my_additional_stop_words)"
   ]
  },
  {
   "cell_type": "code",
   "execution_count": 3,
   "metadata": {},
   "outputs": [
    {
     "data": {
      "text/plain": [
       "<matplotlib.axes._subplots.AxesSubplot at 0x1e9991f2358>"
      ]
     },
     "execution_count": 3,
     "metadata": {},
     "output_type": "execute_result"
    },
    {
     "data": {
      "image/png": "[encoded data removed]",
      "text/plain": [
       "<Figure size 432x288 with 1 Axes>"
      ]
     },
     "metadata": {
      "needs_background": "light"
     },
     "output_type": "display_data"
    }
   ],
   "source": [
    "sns.countplot(x='Label',data=train_data)"
   ]
  },
  {
   "cell_type": "code",
   "execution_count": 4,
   "metadata": {},
   "outputs": [
    {
     "name": "stdout",
     "output_type": "stream",
     "text": [
      "                  Id  Title  Content\n",
      "Label                               \n",
      "Business       24834  24834    24834\n",
      "Entertainment  44834  44834    44834\n",
      "Health         12020  12020    12020\n",
      "Technology     30107  30107    30107\n"
     ]
    }
   ],
   "source": [
    "traindata = train_data.groupby('Label').count()\n",
    "print(traindata)"
   ]
  },
  {
   "cell_type": "markdown",
   "metadata": {},
   "source": [
    "### Cleaning Data"
   ]
  },
  {
   "cell_type": "code",
   "execution_count": 4,
   "metadata": {},
   "outputs": [],
   "source": [
    "#df_entertainment = train_data[train_data['Label']=='Entertainment'].head(3900)\n",
    "#df_health = train_data[train_data['Label']=='Health'].head(1200)\n",
    "#df_business = train_data[train_data['Label']=='Business'].head(2700)\n",
    "#df_technology = train_data[train_data['Label']=='Technology'].head(3000)\n",
    "#df = pd.concat([df_entertainment,df_health,df_business,df_technology])\n",
    "\n",
    "df = train_data.head(10000)\n",
    "X = df['Title'] + df['Content']\n",
    "y = df['Label']\n",
    "#X_train, X_test, y_train, y_test = train_test_split(X, y, test_size=0.33, random_state=42)"
   ]
  },
  {
   "cell_type": "markdown",
   "metadata": {},
   "source": [
    "### Wordcloud "
   ]
  },
  {
   "cell_type": "code",
   "execution_count": 6,
   "metadata": {},
   "outputs": [],
   "source": [
    "#STOPWORDS.extend(['will', 'said', 'us', 'may', 'share','well'])\n",
    "def wordcloud():\n",
    "    business = str()\n",
    "    entertainment = str()\n",
    "    health = str()\n",
    "    technology = str()\n",
    "    for i in range(expected_array.shape[0]):\n",
    "        if expected_array[i] == 'Business':\n",
    "            business = business + ' ' + str(content_array[i])\n",
    "        elif expected_array[i] == 'Entertainment':\n",
    "            entertainment = entertainment + ' ' + str(content_array[i])\n",
    "        elif expected_array[i] == 'Health':\n",
    "            health = health + ' ' + str(content_array[i])\n",
    "        elif expected_array[i] == 'Technology':\n",
    "            technology = technology + ' ' + str(content_array[i])\n",
    "\n",
    "    mask = np.array(Image.open(requests.get('http://www.clker.com/cliparts/3/0/a/1/11971238241310805346noonespillow_Simple_Cloud.svg.med.png',stream=True).raw))\n",
    "\n",
    "    wordcloud1 = WordCloud(stopwords=stop_words, background_color=\"white\", mask=mask).generate(business)\n",
    "    plt.imshow(wordcloud1,interpolation='bilinear')\n",
    "    plt.axis(\"off\")\n",
    "    plt.savefig('q1/business.png')\n",
    "\n",
    "    wordcloud2 = WordCloud(stopwords=stop_words,background_color=\"white\",mask=mask).generate(entertainment)\n",
    "    plt.imshow(wordcloud2,interpolation='bilinear')\n",
    "    plt.axis(\"off\")\n",
    "    plt.savefig('q1/entertainment.png')\n",
    "\n",
    "    wordcloud3 = WordCloud(stopwords=stop_words,background_color=\"white\",mask=mask).generate(health)\n",
    "    plt.imshow(wordcloud3,interpolation='bilinear')\n",
    "    plt.axis(\"off\")\n",
    "    plt.savefig('q1/health.png')\n",
    "\n",
    "    wordcloud4 = WordCloud(stopwords=stop_words,background_color=\"white\",mask=mask).generate(technology)\n",
    "    plt.imshow(wordcloud4,interpolation='bilinear')\n",
    "    plt.axis(\"off\")\n",
    "    plt.savefig('q1/technology.png')"
   ]
  },
  {
   "cell_type": "code",
   "execution_count": 24,
   "metadata": {},
   "outputs": [],
   "source": [
    "from stop_words import get_stop_words\n",
    "stpw = get_stop_words('en')\n",
    "stpw.extend(my_additional_stop_words)\n",
    "stpw.extend(['can','also','like'])\n",
    "stpw.extend(['saying', 'said', 'say', 'yes', 'instead', 'meanwhile', 'right', 'really', 'finally', 'now', \n",
    "                       'one', 'suggested', 'says', 'added', 'think', 'know', 'though', 'let', 'going', 'back',\n",
    "                       'well', 'example', 'us', 'yet', 'perhaps', 'actually', 'oh', 'year', 'lastyear',\n",
    "                       'last', 'old', 'first', 'good', 'maybe', 'ask', '.', ',', ':', 'take', 'made', 'n\\'t', 'go', \n",
    "                       'make', 'two', 'got', 'took', 'want', 'much', 'may', 'never', 'second', 'could', 'still', 'get', \n",
    "                       '?', 'would', '(', '\\'', ')', '``', '/', \"''\", '%', '#', '!', 'next', \"'s\", ';', '[', ']', '...',\n",
    "                       'might', \"'m\", \"'d\", 'also', 'something', 'even', 'new', 'lot', 'a', 'thing', 'time', 'way',\n",
    "                       'always', 'whose', 'need', 'people', 'come', 'become', 'another', 'many', 'must', 'too', 'as', 'well'])\n",
    "\n",
    "\n",
    "def wordcloud2():\n",
    "    cat = {}\n",
    "    for i,row in train_data.iterrows():\n",
    "        try:\n",
    "            category = cat[row['Label']]\n",
    "        except KeyError:\n",
    "            cat[row['Label']] = {}\n",
    "            category = cat[row['Label']]\n",
    "        for word in row['Content'].lower().split():\n",
    "            #word = w.lower().split()\n",
    "            if word in stpw:\n",
    "                continue\n",
    "            try:\n",
    "                category[word] += 1\n",
    "            except KeyError:\n",
    "                category[word] = 1\n",
    "        \n",
    "    mask = np.array(Image.open(requests.get('http://www.clker.com/cliparts/3/0/a/1/11971238241310805346noonespillow_Simple_Cloud.svg.med.png',stream=True).raw))\n",
    "\n",
    "    wordcloud5 = WordCloud(stopwords=stop_words, background_color=\"white\", mask=mask)\n",
    "    for categ,wrds in cat.items():\n",
    "        wordcloud5.generate_from_frequencies(wrds)\n",
    "        wordcloud5.to_file('q1/'+categ+'.jpg')"
   ]
  },
  {
   "cell_type": "code",
   "execution_count": 25,
   "metadata": {},
   "outputs": [],
   "source": [
    "wordcloud2()"
   ]
  },
  {
   "cell_type": "markdown",
   "metadata": {},
   "source": [
    "### Building Vectors"
   ]
  },
  {
   "cell_type": "code",
   "execution_count": 4,
   "metadata": {},
   "outputs": [
    {
     "name": "stdout",
     "output_type": "stream",
     "text": [
      "building Hashing vectorizer\n",
      "building tfidf\n",
      "Building SVD\n"
     ]
    }
   ],
   "source": [
    "print(\"building Hashing vectorizer\")\n",
    "hvect = HashingVectorizer(stop_words='english')\n",
    "\n",
    "print(\"building tfidf\")\n",
    "vectorizer = TfidfVectorizer(stop_words = 'english',use_idf=True)\n",
    "#vectorizer = TfidfVectorizer(use_idf=True)\n",
    "\n",
    "\n",
    "print(\"Building SVD\")\n",
    "#truncated svd\n",
    "lsa=TruncatedSVD(n_components = 80)\n",
    "svd_transformer = make_pipeline(vectorizer,lsa)\n",
    "#X_train_svd = svd_transformer.fit_transform(X_train)"
   ]
  },
  {
   "cell_type": "code",
   "execution_count": 5,
   "metadata": {},
   "outputs": [],
   "source": [
    "X = np.array(X).flatten()\n",
    "y = np.array(y).flatten()"
   ]
  },
  {
   "cell_type": "markdown",
   "metadata": {},
   "source": [
    "### SVM (Bag of Words)"
   ]
  },
  {
   "cell_type": "code",
   "execution_count": 6,
   "metadata": {},
   "outputs": [
    {
     "name": "stdout",
     "output_type": "stream",
     "text": [
      "before determing model\n",
      "Accuracy =  0.9545999999999999\n",
      "Precision =  0.9532042423661526\n",
      "Recall =  0.9481972591828738\n",
      "f1-score =  0.9505834782722115\n"
     ]
    }
   ],
   "source": [
    "#set candidate parameters\n",
    "#parameters = {'kernel':['rbf'], 'gamma': [0.1]}\n",
    "\n",
    "print(\"before determing model\")\n",
    "\n",
    "#determine the model\n",
    "clf = SVC(kernel='linear',C=8,gamma=0.1)\n",
    "#clf = GridSearchCV(svc,parameters,cv=5)\n",
    "\n",
    "estimators1 = [(\"tf_idf\",vectorizer),(\"svm\",clf)]\n",
    "model1 = Pipeline(estimators1)\n",
    "\n",
    "kf = KFold(n_splits=5)\n",
    "\n",
    "accuracy,precision,recall,f1 = 0,0,0,0\n",
    "\n",
    "for trainI,testI in kf.split(X):\n",
    "    #kfTestCategIds = le.transform(y[testI])\n",
    "    model1.fit(X[trainI],y[trainI])\n",
    "    predictions = model1.predict(X[testI])\n",
    "    \n",
    "    ret = precision_score(y[testI], predictions, average='macro')\n",
    "    precision += ret\n",
    "\n",
    "    ret = recall_score(y[testI], predictions, average='macro')\n",
    "    recall += ret\n",
    "\n",
    "    ret = f1_score(y[testI], predictions, average='macro')\n",
    "    f1 += ret\n",
    "\n",
    "    accuracy += accuracy_score(y[testI], predictions)\n",
    "    \n",
    "#accuracy,precision,recall,f1 = accuracy/float(5),precision/float(5),recall/float(5),f1/float(5)\n",
    "accuracy,precision,recall,f1 = accuracy/5,precision/5,recall/5,f1/5\n",
    "print(\"Accuracy = \",end=' ')\n",
    "print(accuracy)\n",
    "print(\"Precision = \",end=' ')\n",
    "print(precision)\n",
    "print(\"Recall = \",end=' ')\n",
    "print(recall)\n",
    "print(\"f1-score = \",end=' ')\n",
    "print(f1)"
   ]
  },
  {
   "cell_type": "markdown",
   "metadata": {},
   "source": [
    "### SVM (svd)"
   ]
  },
  {
   "cell_type": "code",
   "execution_count": 8,
   "metadata": {},
   "outputs": [
    {
     "name": "stdout",
     "output_type": "stream",
     "text": [
      "Accuracy =  0.9191\n",
      "Precision =  0.9162505739239913\n",
      "Recall =  0.9055515922838586\n",
      "f1-score =  0.9105634725176394\n"
     ]
    }
   ],
   "source": [
    "s = SVC(kernel='linear',C=8,gamma=1)\n",
    "\n",
    "estimators2 = [(\"svd\",svd_transformer),(\"svm\",s)]\n",
    "model2 = Pipeline(estimators2)\n",
    "\n",
    "kf = KFold(n_splits=5)\n",
    "\n",
    "accuracy,precision,recall,f1 = 0,0,0,0\n",
    "\n",
    "for trainI,testI in kf.split(X):\n",
    "    #kfTestCategIds = le.transform(y[testI])\n",
    "    model2.fit(X[trainI],y[trainI])\n",
    "    predictions = model2.predict(X[testI])\n",
    "    \n",
    "    ret = precision_score(y[testI], predictions, average='macro')\n",
    "    precision += ret\n",
    "\n",
    "    ret = recall_score(y[testI], predictions, average='macro')\n",
    "    recall += ret\n",
    "\n",
    "    ret = f1_score(y[testI], predictions, average='macro')\n",
    "    f1 += ret\n",
    "\n",
    "    accuracy += accuracy_score(y[testI], predictions)\n",
    "    \n",
    "#accuracy,precision,recall,f1 = accuracy/float(5),precision/float(5),recall/float(5),f1/float(5)\n",
    "accuracy,precision,recall,f1 = accuracy/5,precision/5,recall/5,f1/5\n",
    "print(\"Accuracy = \",end=' ')\n",
    "print(accuracy)\n",
    "print(\"Precision = \",end=' ')\n",
    "print(precision)\n",
    "print(\"Recall = \",end=' ')\n",
    "print(recall)\n",
    "print(\"f1-score = \",end=' ')\n",
    "print(f1)"
   ]
  },
  {
   "cell_type": "markdown",
   "metadata": {},
   "source": [
    "### Random Forests (Bag of words)"
   ]
  },
  {
   "cell_type": "code",
   "execution_count": 8,
   "metadata": {},
   "outputs": [
    {
     "name": "stdout",
     "output_type": "stream",
     "text": [
      "Accuracy =  0.8968999999999999\n",
      "Precision =  0.9067435816527931\n",
      "Recall =  0.8715337766643311\n",
      "f1-score =  0.8865241827043843\n"
     ]
    }
   ],
   "source": [
    "rfc = RandomForestClassifier(n_estimators = 100)\n",
    "\n",
    "estimators3 = [(\"tf_idf\",vectorizer),(\"rfc\",rfc)]\n",
    "model3 = Pipeline(estimators3)\n",
    "\n",
    "kf = KFold(n_splits=5)\n",
    "\n",
    "accuracy,precision,recall,f1 = 0,0,0,0\n",
    "\n",
    "for trainI,testI in kf.split(X):\n",
    "    #kfTestCategIds = le.transform(y[testI])\n",
    "    model3.fit(X[trainI],y[trainI])\n",
    "    predictions = model3.predict(X[testI])\n",
    "    \n",
    "    ret = precision_score(y[testI], predictions, average='macro')\n",
    "    precision += ret\n",
    "\n",
    "    ret = recall_score(y[testI], predictions, average='macro')\n",
    "    recall += ret\n",
    "\n",
    "    ret = f1_score(y[testI], predictions, average='macro')\n",
    "    f1 += ret\n",
    "\n",
    "    accuracy += accuracy_score(y[testI], predictions)\n",
    "    \n",
    "#accuracy,precision,recall,f1 = accuracy/float(5),precision/float(5),recall/float(5),f1/float(5)\n",
    "accuracy,precision,recall,f1 = accuracy/5,precision/5,recall/5,f1/5\n",
    "print(\"Accuracy = \",end=' ')\n",
    "print(accuracy)\n",
    "print(\"Precision = \",end=' ')\n",
    "print(precision)\n",
    "print(\"Recall = \",end=' ')\n",
    "print(recall)\n",
    "print(\"f1-score = \",end=' ')\n",
    "print(f1)"
   ]
  },
  {
   "cell_type": "markdown",
   "metadata": {},
   "source": [
    "### Random Forests (svd)"
   ]
  },
  {
   "cell_type": "code",
   "execution_count": 9,
   "metadata": {},
   "outputs": [
    {
     "name": "stdout",
     "output_type": "stream",
     "text": [
      "Accuracy =  0.9264000000000001\n",
      "Precision =  0.9242512323809045\n",
      "Recall =  0.9114466829623454\n",
      "f1-score =  0.9173966039247782\n"
     ]
    }
   ],
   "source": [
    "rfc1 = RandomForestClassifier(n_estimators=100)\n",
    "\n",
    "estimators4 = [(\"svd\",svd_transformer),(\"rfc\",rfc1)]\n",
    "model4 = Pipeline(estimators4)\n",
    "\n",
    "kf = KFold(n_splits=5)\n",
    "\n",
    "accuracy,precision,recall,f1 = 0,0,0,0\n",
    "\n",
    "for trainI,testI in kf.split(X):\n",
    "    #kfTestCategIds = le.transform(y[testI])\n",
    "    model4.fit(X[trainI],y[trainI])\n",
    "    predictions = model4.predict(X[testI])\n",
    "    \n",
    "    ret = precision_score(y[testI], predictions, average='macro')\n",
    "    precision += ret\n",
    "\n",
    "    ret = recall_score(y[testI], predictions, average='macro')\n",
    "    recall += ret\n",
    "\n",
    "    ret = f1_score(y[testI], predictions, average='macro')\n",
    "    f1 += ret\n",
    "\n",
    "    accuracy += accuracy_score(y[testI], predictions)\n",
    "    \n",
    "#accuracy,precision,recall,f1 = accuracy/float(5),precision/float(5),recall/float(5),f1/float(5)\n",
    "accuracy,precision,recall,f1 = accuracy/5,precision/5,recall/5,f1/5\n",
    "print(\"Accuracy = \",end=' ')\n",
    "print(accuracy)\n",
    "print(\"Precision = \",end=' ')\n",
    "print(precision)\n",
    "print(\"Recall = \",end=' ')\n",
    "print(recall)\n",
    "print(\"f1-score = \",end=' ')\n",
    "print(f1)"
   ]
  },
  {
   "cell_type": "markdown",
   "metadata": {},
   "source": [
    "### My Method"
   ]
  },
  {
   "cell_type": "code",
   "execution_count": 6,
   "metadata": {},
   "outputs": [
    {
     "name": "stderr",
     "output_type": "stream",
     "text": [
      "[nltk_data] Downloading package stopwords to\n",
      "[nltk_data]     C:\\Users\\HP\\AppData\\Roaming\\nltk_data...\n",
      "[nltk_data]   Package stopwords is already up-to-date!\n",
      "[nltk_data] Downloading package wordnet to\n",
      "[nltk_data]     C:\\Users\\HP\\AppData\\Roaming\\nltk_data...\n",
      "[nltk_data]   Package wordnet is already up-to-date!\n",
      "c:\\python\\python37\\lib\\site-packages\\sklearn\\feature_extraction\\text.py:300: UserWarning: Your stop_words may be inconsistent with your preprocessing. Tokenizing the stop words generated tokens ['abov', 'actual', 'ad', 'alway', 'ani', 'anoth', 'arent', 'becaus', 'becom', 'befor', 'couldnt', 'didnt', 'doe', 'doesnt', 'dont', 'dure', 'exampl', 'final', 'hadnt', 'hasnt', 'havent', 'isnt', 'mani', 'mayb', 'meanwhil', 'mightnt', 'mustnt', 'neednt', 'nt', 'onc', 'onli', 'ourselv', 'peopl', 'perhap', 'realli', 'shant', 'shes', 'shouldnt', 'shouldv', 'someth', 'suggest', 'thatll', 'themselv', 'veri', 'wasnt', 'werent', 'whi', 'wont', 'wouldnt', 'youd', 'youll', 'yourselv', 'youv'] not in stop_words.\n",
      "  'stop_words.' % sorted(inconsistent))\n"
     ]
    },
    {
     "name": "stdout",
     "output_type": "stream",
     "text": [
      "Accuracy =  0.9562999999999999\n",
      "Precision =  0.9553819566037911\n",
      "Recall =  0.9497798559735733\n",
      "f1-score =  0.9524677583942159\n"
     ]
    }
   ],
   "source": [
    "nltk.download('stopwords')\n",
    "stopWords = stopwords.words('english')\n",
    "from nltk.stem import WordNetLemmatizer\n",
    "nltk.download('wordnet')\n",
    "import re\n",
    "from sklearn.naive_bayes import ComplementNB\n",
    "from sklearn.neighbors import KNeighborsClassifier\n",
    "\n",
    "stopWords.extend(['saying', 'said', 'say', 'yes', 'instead', 'meanwhile', 'right', 'really', 'finally', 'now', \n",
    "                       'one', 'suggested', 'says', 'added', 'think', 'know', 'though', 'let', 'going', 'back',\n",
    "                       'well', 'example', 'us', 'yet', 'perhaps', 'actually', 'oh', 'year', 'lastyear',\n",
    "                       'last', 'old', 'first', 'good', 'maybe', 'ask', '.', ',', ':', 'take', 'made', 'n\\'t', 'go', \n",
    "                       'make', 'two', 'got', 'took', 'want', 'much', 'may', 'never', 'second', 'could', 'still', 'get', \n",
    "                       '?', 'would', '(', '\\'', ')', '``', '/', \"''\", '%', '#', '!', 'next', \"'s\", ';', '[', ']', '...',\n",
    "                       'might', \"'m\", \"'d\", 'also', 'something', 'even', 'new', 'lot', 'a', 'thing', 'time', 'way',\n",
    "                       'always', 'whose', 'need', 'people', 'come', 'become', 'another', 'many', 'must', 'too', 'as', 'well'])\n",
    "\n",
    "stopWords.extend([' ','are','and','I','A','And','So','arnt','This','When','It','many','Many','so','cant','Yes','yes','No','no','These','these'])\n",
    "\n",
    "def processText(text):    \n",
    "    p_stemmer = SnowballStemmer(language='english')\n",
    "    text = re.sub(r'[^\\w\\s]','',text)\n",
    "    tokens = text.lower()\n",
    "    tokens = tokens.split()\n",
    "    #tokens = [wrd for wrd in tokens if(wrd not in stopWords)]\n",
    "    #lemmatizer = WordNetLemmatizer()\n",
    "    #tokens = [lemmatizer.lemmatize(t) for t in tokens]\n",
    "    #tokens = [wrd for wrd in tokens if(wrd not in stopWords)]\n",
    "    stems = [p_stemmer.stem(t) for t in tokens]\n",
    "    return stems\n",
    "\n",
    "#X = 'ttt '+ df['Title']+' ttt '+ df['Title']+' ccc '+df['Content']+' ttt '+df['Title']+' ttt '+ df['Title']\n",
    "X = df['Title'] + df['Title'] + df['Content'] + df['Title'] + df['Title']\n",
    "y = df['Label']\n",
    "\n",
    "X = np.array(X).flatten()\n",
    "y = np.array(y).flatten()\n",
    "\n",
    "vectorizer = TfidfVectorizer(tokenizer=processText, stop_words = stopWords,use_idf=True)\n",
    "#vectorizer = TfidfVectorizer(tokenizer=processText, use_idf=True)\n",
    "\n",
    "nb = SVC(kernel='rbf',C=8,gamma=0.1)    \n",
    "#nb = KNeighborsClassifier(n_neighbors=3)\n",
    "#nb = ComplementNB()\n",
    "\n",
    "estimators = [(\"tf_idf\",vectorizer),(\"svm\",nb)]\n",
    "model = Pipeline(estimators)\n",
    "\n",
    "kf = KFold(n_splits=5)\n",
    "\n",
    "accuracy,precision,recall,f1 = 0,0,0,0\n",
    "\n",
    "for trainI,testI in kf.split(X):\n",
    "    #kfTestCategIds = le.transform(y[testI])\n",
    "    model.fit(X[trainI],y[trainI])\n",
    "    predictions = model.predict(X[testI])\n",
    "    \n",
    "    ret = precision_score(y[testI], predictions, average='macro')\n",
    "    precision += ret\n",
    "\n",
    "    ret = recall_score(y[testI], predictions, average='macro')\n",
    "    recall += ret\n",
    "\n",
    "    ret = f1_score(y[testI], predictions, average='macro')\n",
    "    f1 += ret\n",
    "\n",
    "    accuracy += accuracy_score(y[testI], predictions)\n",
    "    \n",
    "#accuracy,precision,recall,f1 = accuracy/float(5),precision/float(5),recall/float(5),f1/float(5)\n",
    "accuracy,precision,recall,f1 = accuracy/5,precision/5,recall/5,f1/5\n",
    "print(\"Accuracy = \",end=' ')\n",
    "print(accuracy)\n",
    "print(\"Precision = \",end=' ')\n",
    "print(precision)\n",
    "print(\"Recall = \",end=' ')\n",
    "print(recall)\n",
    "print(\"f1-score = \",end=' ')\n",
    "print(f1)"
   ]
  },
  {
   "cell_type": "markdown",
   "metadata": {},
   "source": [
    "### Predicting Test file"
   ]
  },
  {
   "cell_type": "code",
   "execution_count": 18,
   "metadata": {},
   "outputs": [],
   "source": [
    "df_test = test_data['Title']+test_data['Title']+test_data['Content']+test_data['Title']+test_data['Title']\n",
    "#X_test_vector = vectorizer.transform(df_test)"
   ]
  },
  {
   "cell_type": "code",
   "execution_count": 19,
   "metadata": {},
   "outputs": [],
   "source": [
    "#pred_final = nb.predict(X_test_vector)\n",
    "pred_final = model.predict(df_test)"
   ]
  },
  {
   "cell_type": "code",
   "execution_count": 20,
   "metadata": {},
   "outputs": [],
   "source": [
    "to_print_arr = np.array(test_data[['Id']]).flatten()\n",
    "columns = pd.Index(['Id','Predicted'])\n",
    "data = np.column_stack((to_print_arr,pred_final))\n",
    "df_final = pd.DataFrame(data, index=None, columns = columns)\n",
    "df_final.to_csv('q1/testSet_categories.csv', sep=',', index=False)"
   ]
  },
  {
   "cell_type": "markdown",
   "metadata": {},
   "source": [
    "### Requirement 1 complete"
   ]
  }
 ],
 "metadata": {
  "kernelspec": {
   "display_name": "Python 3",
   "language": "python",
   "name": "python3"
  },
  "language_info": {
   "codemirror_mode": {
    "name": "ipython",
    "version": 3
   },
   "file_extension": ".py",
   "mimetype": "text/x-python",
   "name": "python",
   "nbconvert_exporter": "python",
   "pygments_lexer": "ipython3",
   "version": "3.7.3"
  }
 },
 "nbformat": 4,
 "nbformat_minor": 2
}
